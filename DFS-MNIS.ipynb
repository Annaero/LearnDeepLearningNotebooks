{
 "cells": [
  {
   "cell_type": "code",
   "execution_count": 4,
   "metadata": {},
   "outputs": [],
   "source": [
    "import pandas as pd\n",
    "from sklearn.ensemble import RandomForestClassifier\n",
    "import sklearn.cross_validation as CV"
   ]
  },
  {
   "cell_type": "markdown",
   "metadata": {},
   "source": [
    "# ANN"
   ]
  },
  {
   "cell_type": "code",
   "execution_count": 5,
   "metadata": {},
   "outputs": [],
   "source": [
    "from sklearn.metrics import roc_auc_score\n",
    "\n",
    "import tensorflow as tf\n",
    "import numpy as np\n",
    "\n",
    "import matplotlib.pyplot as plt"
   ]
  },
  {
   "cell_type": "code",
   "execution_count": null,
   "metadata": {},
   "outputs": [],
   "source": []
  },
  {
   "cell_type": "markdown",
   "metadata": {},
   "source": [
    "## Helper functions and classes"
   ]
  },
  {
   "cell_type": "code",
   "execution_count": 6,
   "metadata": {},
   "outputs": [],
   "source": [
    "def linear_activation(vector, weights, bias):\n",
    "    return tf.matmul(vector, weights) + bias"
   ]
  },
  {
   "cell_type": "code",
   "execution_count": 7,
   "metadata": {},
   "outputs": [],
   "source": [
    "class BatchGenerator():\n",
    "    def __init__(self, X, y, batch_size):\n",
    "        self.X = X\n",
    "        self.Y = y\n",
    "        self.batch_size = batch_size\n",
    "        self.n_batch = (len(X) // batch_size)\n",
    "        self.index = 0\n",
    "\n",
    "    def get_batch(self):\n",
    "        batch_range = range(self.index, (self.index+1)*self.batch_size)\n",
    "        if self.index == self.n_batch:\n",
    "            batch_range = range(self.index, len(self.X))\n",
    "        self.index += 1\n",
    "\n",
    "        return self.X[batch_range], self.Y[batch_range]\n",
    "\n",
    "    def resetIndex(self):\n",
    "        self.index = 0"
   ]
  },
  {
   "cell_type": "markdown",
   "metadata": {},
   "source": [
    "### NN layers\n",
    "As far this is ad-hoc solution for test task layer composing fuctions includes code for regularization"
   ]
  },
  {
   "cell_type": "code",
   "execution_count": 8,
   "metadata": {},
   "outputs": [],
   "source": [
    "class One2OneLayer(object):\n",
    "    def __init__(self, input_layer, weight_init=None):\n",
    "        input_size = input_layer.get_shape()[1].value\n",
    "\n",
    "        o2o_weights = tf.Variable(tf.random_normal([input_size]))\n",
    "        o2o_output = input_layer * o2o_weights\n",
    "\n",
    "        self.output = o2o_output\n",
    "        self.input = input_layer\n",
    "        self.output = o2o_output\n",
    "        self.weights = o2o_weights\n",
    "    \n",
    "class DenseLayer():\n",
    "    def __init__(self, input_layer, layer_size, activation):\n",
    "        input_size = input_layer.get_shape()[1].value\n",
    "        \n",
    "        weights = tf.Variable(tf.random_normal([input_size, layer_size]))\n",
    "        bias = tf.Variable(tf.random_normal([layer_size]))\n",
    "\n",
    "        z = linear_activation(input_layer, weights, bias)\n",
    "        output = activation(z)\n",
    "        \n",
    "        self.input = input_layer\n",
    "        self.bias = bias\n",
    "        self.output = output\n",
    "        self.weights = weights\n",
    "        \n",
    "class SoftmaxLayer():\n",
    "    \"\"\"\n",
    "        This class describes the outpu layer of NN\n",
    "        with softmax loss function\n",
    "    \"\"\"\n",
    "    def __init__(self, input_layer, layer_size, y):\n",
    "        input_size = input_layer.get_shape()[1].value\n",
    "\n",
    "        weights = tf.Variable(tf.random_normal([input_size, layer_size]))\n",
    "        bias = tf.Variable(tf.random_normal([layer_size]))\n",
    "\n",
    "        z = linear_activation(input_layer, weights, bias)\n",
    "        cost = tf.reduce_mean(tf.nn.softmax_cross_entropy_with_logits_v2(labels=y, logits=z))\n",
    "\n",
    "        # Evaluate model\n",
    "        correct_predictions = tf.equal(tf.argmax(z, 1), tf.argmax(y, 1))\n",
    "        self.accuracy = tf.reduce_mean(tf.cast(correct_predictions, tf.float32))\n",
    "        \n",
    "        self.input = input_layer\n",
    "        self.bias = bias\n",
    "        self.output = z\n",
    "        self.weights = weights\n",
    "        \n",
    "        self.cost = cost\n",
    "        self.y = y\n"
   ]
  },
  {
   "cell_type": "code",
   "execution_count": 9,
   "metadata": {},
   "outputs": [],
   "source": [
    "class DeepFeatureSelectionNN():\n",
    "    def __init__(self, X, Y, layers_dimentions=100, n_layers=5, activation=tf.nn.sigmoid,\n",
    "                 lambda1=0.001, lambda2=1.0, alpha1=0.001, alpha2=0.0):\n",
    "        self.X = X\n",
    "        self.Y = Y\n",
    "    \n",
    "        #Calculate shapes\n",
    "        n_sample, n_feat = X.shape\n",
    "        n_classes =  Y.shape[1] # len(np.unique(y))\n",
    "    \n",
    "        #Init input layers\n",
    "        self.input_X = tf.placeholder(\"float32\", shape=(None, n_feat), name=\"input_X\")\n",
    "        self.input_y = tf.placeholder(\"float32\", shape=(None, n_classes), name=\"input_Y\")\n",
    "        \n",
    "        #Add one2one, dense and softmax layers\n",
    "        self.hidden_layers = []\n",
    "        self.hidden_layers.append(One2OneLayer(self.input_X))\n",
    "        \n",
    "        dims = []\n",
    "        if type(layers_dimentions) != list:\n",
    "            dims = [layers_dimentions for k in range(n_layers)]\n",
    "        else:\n",
    "            dims = layers_dimentions\n",
    "        \n",
    "        for layer_size in dims:\n",
    "            input_hidden = self.hidden_layers[-1].output if self.hidden_layers else self.input_X\n",
    "            self.hidden_layers.append(DenseLayer(input_hidden, layer_size, activation=activation))\n",
    "            \n",
    "        self.output_layer = SoftmaxLayer(self.hidden_layers[-1].output, n_classes, self.input_y)\n",
    "        self.hidden_layers.append(self.output_layer)\n",
    "        \n",
    "        #Collect weights from layers\n",
    "        w = self.hidden_layers[0].weights\n",
    "        sqr_frob_norm = [tf.norm(l.weights, 'euclidean') ** 2 for l in self.hidden_layers[1:]]\n",
    "        l1_norm = [tf.norm(l.weights, 1) for l in self.hidden_layers[1:]]\n",
    "        \n",
    "        #Precalculate regularization terms\n",
    "        regularization1 = lambda1*((1.0-lambda2) * 0.5 * tf.norm(w) ** 2 + lambda2 * tf.norm(w, 1))\n",
    "        regularization2 = alpha1*((1.0-alpha2) * 0.5 * tf.add_n(sqr_frob_norm) +  lambda1 * tf.add_n(l1_norm))\n",
    "        \n",
    "        #Calculate cost function\n",
    "        self.cost = self.output_layer.cost + regularization1 + regularization2\n",
    "        \n",
    "    def train(self,lerning_rate=0.01, epochs=1000, batch_size=100, \n",
    "              verbose=True, print_step=100, random_state=441):\n",
    "        X_train, X_test, Y_train, Y_test = CV.train_test_split(self.X, \n",
    "                                                               self.Y, \n",
    "                                                               random_state=random_state)\n",
    "        \n",
    "        GDoptimizer = tf.train.AdamOptimizer(lerning_rate)\\\n",
    "                              .minimize(self.cost)\n",
    "        \n",
    "        self.accuracy = self.output_layer.accuracy\n",
    "        #self.y = self.softmax_layer.y\n",
    "        \n",
    "        s = tf.Session()\n",
    "        self.s = s\n",
    "        s.run(tf.global_variables_initializer())\n",
    "        \n",
    "        #batch_generator = BatchGenerator(X_train, Y_train, batch_size)\n",
    "        #n_batch = batch_generator.n_batch\n",
    "        \n",
    "        self.losses, self.train_accs, self.test_accs = [], [], []\n",
    "        \n",
    "        for i in range(epochs):\n",
    "            #batch_generator.resetIndex()\n",
    "            #for j in range(n_batch + 1):\n",
    "                #x_batch, y_batch = batch_generator.get_batch()\n",
    "                \n",
    "            idx = np.random.randint(X_train.shape[0], size=batch_size)\n",
    "            x_batch, y_batch = X_train[idx,:], Y_train[idx,:]\n",
    "                \n",
    "            s.run(GDoptimizer, feed_dict={self.input_X : x_batch, self.input_y: y_batch})\n",
    "\n",
    "            self.train_accs.append(s.run(self.output_layer.accuracy,\n",
    "                                         feed_dict={self.input_X: X_train, self.input_y: Y_train}))\n",
    "            self.test_accs.append(s.run(self.output_layer.accuracy,\n",
    "                                           feed_dict={self.input_X: X_test, self.input_y: Y_test}))\n",
    "            self.losses.append(s.run(self.cost,\n",
    "                                        feed_dict={self.input_X: x_batch, self.input_y: y_batch}))\n",
    "\n",
    "            if verbose and i % print_step == 0:\n",
    "                print('epoch {}: loss = {}'.format(i, self.losses[-1]))\n",
    "                print(\"Train accuracy:\", self.train_accs[-1])\n",
    "                print(\"Test accuracy:\", self.test_accs[-1])\n",
    "\n",
    "                print(\"train auc:\", roc_auc_score(Y_train, s.run(self.output_layer.output, \n",
    "                                                                 {self.input_X: X_train})))\n",
    "                print(\"test auc:\", roc_auc_score(Y_test, s.run(self.output_layer.output, \n",
    "                                                               {self.input_X: X_test})))\n",
    "        \n",
    "        self.selected_ws = s.run(self.hidden_layers[0].weights)\n",
    "        if verbose:\n",
    "            print(\"Final train accuracy:\", self.train_accs[-1])\n",
    "            print(\"Final test accuracy:\", self.test_accs[-1])"
   ]
  },
  {
   "cell_type": "code",
   "execution_count": 10,
   "metadata": {},
   "outputs": [
    {
     "name": "stderr",
     "output_type": "stream",
     "text": [
      "Using TensorFlow backend.\n"
     ]
    },
    {
     "name": "stdout",
     "output_type": "stream",
     "text": [
      "(50000, 28, 28) (50000,)\n"
     ]
    },
    {
     "data": {
      "image/png": "[encoded data removed]",
      "text/plain": [
       "<matplotlib.figure.Figure at 0x7f8cb528f198>"
      ]
     },
     "metadata": {},
     "output_type": "display_data"
    }
   ],
   "source": [
    "from preprocessed_mnist import load_dataset\n",
    "X_train, y_train, X_val, y_val, X_test, y_test = load_dataset()\n",
    "print(X_train.shape, y_train.shape)\n",
    "%matplotlib inline\n",
    "plt.imshow(X_train[0], cmap=\"Greys\");"
   ]
  },
  {
   "cell_type": "code",
   "execution_count": 11,
   "metadata": {},
   "outputs": [
    {
     "data": {
      "text/plain": [
       "((50000, 784), (10000, 784), (10000, 784))"
      ]
     },
     "execution_count": 11,
     "metadata": {},
     "output_type": "execute_result"
    }
   ],
   "source": [
    "from sklearn.preprocessing import OneHotEncoder\n",
    "enc = OneHotEncoder()\n",
    "Y = np.hstack([y_train, y_val, y_test])\n",
    "Y.shape\n",
    "Y_encoded = enc.fit_transform(np.asmatrix(Y).T).todense()\n",
    "y_train_coded, y_val_coded, y_test_coded = Y_encoded[:50000,:], Y_encoded[50000:60000,:], Y_encoded[60000:,:]\n",
    "y_train_coded.shape, y_val_coded.shape, y_test_coded.shape\n",
    "X_train_f = X_train.reshape([X_train.shape[0], 28*28])\n",
    "X_val_f = X_val.reshape([X_val.shape[0], 28*28])\n",
    "X_test_f = X_test.reshape([X_test.shape[0], 28*28])\n",
    "X_train_f.shape, X_val_f.shape, X_test_f.shape"
   ]
  },
  {
   "cell_type": "code",
   "execution_count": 12,
   "metadata": {},
   "outputs": [],
   "source": [
    "X_ = np.vstack([X_train_f, X_val_f, X_test_f])\n",
    "Y_ = Y_encoded"
   ]
  },
  {
   "cell_type": "code",
   "execution_count": 13,
   "metadata": {
    "scrolled": true
   },
   "outputs": [
    {
     "name": "stdout",
     "output_type": "stream",
     "text": [
      "epoch 0: loss = 4901.7109375\n",
      "Train accuracy: 0.08135238\n",
      "Test accuracy: 0.07971428\n",
      "train auc: 0.5175752470012721\n",
      "test auc: 0.5164191747965445\n",
      "epoch 100: loss = 604.2279052734375\n",
      "Train accuracy: 0.82321906\n",
      "Test accuracy: 0.818\n",
      "train auc: 0.9474735918000323\n",
      "test auc: 0.9477616152277186\n",
      "epoch 200: loss = 511.8580322265625\n",
      "Train accuracy: 0.8653143\n",
      "Test accuracy: 0.8602286\n",
      "train auc: 0.9592844929430931\n",
      "test auc: 0.9587511485840639\n",
      "epoch 300: loss = 529.4495849609375\n",
      "Train accuracy: 0.89657146\n",
      "Test accuracy: 0.8862857\n",
      "train auc: 0.9659371681866104\n",
      "test auc: 0.9643075289575409\n",
      "epoch 400: loss = 449.665771484375\n",
      "Train accuracy: 0.9081143\n",
      "Test accuracy: 0.8967429\n",
      "train auc: 0.9705304591576225\n",
      "test auc: 0.9685528394355842\n",
      "epoch 500: loss = 407.5274353027344\n",
      "Train accuracy: 0.91958094\n",
      "Test accuracy: 0.9048\n",
      "train auc: 0.9736629951319132\n",
      "test auc: 0.971128708032218\n",
      "epoch 600: loss = 401.86773681640625\n",
      "Train accuracy: 0.9283619\n",
      "Test accuracy: 0.9110857\n",
      "train auc: 0.9752064576528982\n",
      "test auc: 0.9727531478265863\n",
      "epoch 700: loss = 394.0461730957031\n",
      "Train accuracy: 0.934019\n",
      "Test accuracy: 0.9193714\n",
      "train auc: 0.9762846572292874\n",
      "test auc: 0.9734861351761197\n",
      "epoch 800: loss = 402.6553649902344\n",
      "Train accuracy: 0.93902856\n",
      "Test accuracy: 0.92074287\n",
      "train auc: 0.9781258496100425\n",
      "test auc: 0.9751730557558268\n",
      "epoch 900: loss = 422.958740234375\n",
      "Train accuracy: 0.9441905\n",
      "Test accuracy: 0.9242857\n",
      "train auc: 0.9795909433832634\n",
      "test auc: 0.9765599002554997\n",
      "epoch 1000: loss = 358.00341796875\n",
      "Train accuracy: 0.9442667\n",
      "Test accuracy: 0.92457145\n",
      "train auc: 0.980129252854009\n",
      "test auc: 0.9767674141665061\n",
      "epoch 1100: loss = 353.46966552734375\n",
      "Train accuracy: 0.9496762\n",
      "Test accuracy: 0.92714286\n",
      "train auc: 0.9817142807766697\n",
      "test auc: 0.9782184726203443\n",
      "epoch 1200: loss = 360.157470703125\n",
      "Train accuracy: 0.9525333\n",
      "Test accuracy: 0.92994285\n",
      "train auc: 0.9821958168946999\n",
      "test auc: 0.9786368795196111\n",
      "epoch 1300: loss = 349.78875732421875\n",
      "Train accuracy: 0.9594667\n",
      "Test accuracy: 0.93754286\n",
      "train auc: 0.9826958163278572\n",
      "test auc: 0.9791614557094748\n",
      "epoch 1400: loss = 335.40899658203125\n",
      "Train accuracy: 0.95455235\n",
      "Test accuracy: 0.9323429\n",
      "train auc: 0.9837524847212441\n",
      "test auc: 0.9802117794382506\n",
      "epoch 1500: loss = 332.6932678222656\n",
      "Train accuracy: 0.9588571\n",
      "Test accuracy: 0.9350857\n",
      "train auc: 0.9839593342976087\n",
      "test auc: 0.979977041709159\n",
      "epoch 1600: loss = 331.9347229003906\n",
      "Train accuracy: 0.96190476\n",
      "Test accuracy: 0.9374286\n",
      "train auc: 0.9841225904123133\n",
      "test auc: 0.9802485426423834\n",
      "epoch 1700: loss = 335.88824462890625\n",
      "Train accuracy: 0.9654857\n",
      "Test accuracy: 0.9410286\n",
      "train auc: 0.9844139680553026\n",
      "test auc: 0.9807417012412746\n",
      "epoch 1800: loss = 321.0630187988281\n",
      "Train accuracy: 0.9703619\n",
      "Test accuracy: 0.9454857\n",
      "train auc: 0.9851522102944333\n",
      "test auc: 0.9814106690215103\n",
      "epoch 1900: loss = 306.82989501953125\n",
      "Train accuracy: 0.96870476\n",
      "Test accuracy: 0.94542855\n",
      "train auc: 0.986298185219626\n",
      "test auc: 0.982734680509463\n",
      "Final train accuracy: 0.97148573\n",
      "Final test accuracy: 0.9429714\n",
      "CPU times: user 4h 20min 58s, sys: 32min 30s, total: 4h 53min 28s\n",
      "Wall time: 1h 3min 50s\n"
     ]
    }
   ],
   "source": [
    "%%time\n",
    "nn = DeepFeatureSelectionNN(X_, Y_, layers_dimentions = [784, 392], activation=tf.nn.relu)\n",
    "nn.train(0.002, 2000, 100)"
   ]
  },
  {
   "cell_type": "code",
   "execution_count": 22,
   "metadata": {},
   "outputs": [
    {
     "data": {
      "image/png": "[encoded data removed]",
      "text/plain": [
       "<matplotlib.figure.Figure at 0x7f8c8026a4a8>"
      ]
     },
     "metadata": {},
     "output_type": "display_data"
    }
   ],
   "source": [
    "ww = nn.selected_ws.reshape((28,28))\n",
    "\n",
    "plt.title(\"Pixel position importainse in MNIST task\")\n",
    "plt.imshow(ww, cmap=\"Greys\");"
   ]
  },
  {
   "cell_type": "code",
   "execution_count": null,
   "metadata": {},
   "outputs": [],
   "source": []
  }
 ],
 "metadata": {
  "kernelspec": {
   "display_name": "Python 3",
   "language": "python",
   "name": "python3"
  },
  "language_info": {
   "codemirror_mode": {
    "name": "ipython",
    "version": 3
   },
   "file_extension": ".py",
   "mimetype": "text/x-python",
   "name": "python",
   "nbconvert_exporter": "python",
   "pygments_lexer": "ipython3",
   "version": "3.6.4"
  }
 },
 "nbformat": 4,
 "nbformat_minor": 2
}
