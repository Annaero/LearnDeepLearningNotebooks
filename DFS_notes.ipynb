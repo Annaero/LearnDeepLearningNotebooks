{
 "cells": [
  {
   "cell_type": "code",
   "execution_count": 2,
   "metadata": {},
   "outputs": [
    {
     "name": "stderr",
     "output_type": "stream",
     "text": [
      "/home/krikunovalexey/anaconda3/lib/python3.6/site-packages/sklearn/cross_validation.py:41: DeprecationWarning: This module was deprecated in version 0.18 in favor of the model_selection module into which all the refactored classes and functions are moved. Also note that the interface of the new CV iterators are different from that of this module. This module will be removed in 0.20.\n",
      "  \"This module will be removed in 0.20.\", DeprecationWarning)\n"
     ]
    }
   ],
   "source": [
    "import pandas as pd\n",
    "import matplotlib.pyplot as plt\n",
    "import seaborn as sns\n",
    "\n",
    "from sklearn import preprocessing\n",
    "from sklearn.ensemble import RandomForestClassifier\n",
    "from sklearn.svm import SVC\n",
    "import sklearn.cross_validation as CV\n",
    "from sklearn.preprocessing import OneHotEncoder\n",
    "from sklearn.model_selection import GridSearchCV\n",
    "\n",
    "from lightgbm import LGBMClassifier"
   ]
  },
  {
   "cell_type": "code",
   "execution_count": 29,
   "metadata": {},
   "outputs": [],
   "source": [
    "RANDOM_STATE = 1512"
   ]
  },
  {
   "cell_type": "markdown",
   "metadata": {},
   "source": [
    "# Load and preprocess the data"
   ]
  },
  {
   "cell_type": "code",
   "execution_count": 4,
   "metadata": {},
   "outputs": [],
   "source": [
    "df = pd.read_csv(\"train.csv\")"
   ]
  },
  {
   "cell_type": "code",
   "execution_count": 5,
   "metadata": {},
   "outputs": [],
   "source": [
    "X_unscaled, y_ = df[df.columns[:-1]], df['y']\n",
    "min_max_scaler = preprocessing.StandardScaler()\n",
    "X_ = min_max_scaler.fit_transform(X_unscaled)\n",
    "df2 = pd.DataFrame(X_, columns=df.columns[:-1])"
   ]
  },
  {
   "cell_type": "code",
   "execution_count": 6,
   "metadata": {},
   "outputs": [],
   "source": [
    "y_ = y_.as_matrix().reshape((1105, 1))"
   ]
  },
  {
   "cell_type": "code",
   "execution_count": 7,
   "metadata": {},
   "outputs": [
    {
     "data": {
      "text/html": [
       "<div>\n",
       "<style scoped>\n",
       "    .dataframe tbody tr th:only-of-type {\n",
       "        vertical-align: middle;\n",
       "    }\n",
       "\n",
       "    .dataframe tbody tr th {\n",
       "        vertical-align: top;\n",
       "    }\n",
       "\n",
       "    .dataframe thead th {\n",
       "        text-align: right;\n",
       "    }\n",
       "</style>\n",
       "<table border=\"1\" class=\"dataframe\">\n",
       "  <thead>\n",
       "    <tr style=\"text-align: right;\">\n",
       "      <th></th>\n",
       "      <th>feature-0</th>\n",
       "      <th>feature-1</th>\n",
       "      <th>feature-2</th>\n",
       "      <th>feature-3</th>\n",
       "      <th>feature-4</th>\n",
       "      <th>feature-5</th>\n",
       "      <th>feature-6</th>\n",
       "      <th>feature-7</th>\n",
       "      <th>feature-8</th>\n",
       "      <th>feature-9</th>\n",
       "      <th>...</th>\n",
       "      <th>feature-1514</th>\n",
       "      <th>feature-1515</th>\n",
       "      <th>feature-1516</th>\n",
       "      <th>feature-1517</th>\n",
       "      <th>feature-1518</th>\n",
       "      <th>feature-1519</th>\n",
       "      <th>feature-1520</th>\n",
       "      <th>feature-1521</th>\n",
       "      <th>feature-1522</th>\n",
       "      <th>feature-1523</th>\n",
       "    </tr>\n",
       "  </thead>\n",
       "  <tbody>\n",
       "    <tr>\n",
       "      <th>count</th>\n",
       "      <td>1.105000e+03</td>\n",
       "      <td>1.105000e+03</td>\n",
       "      <td>1.105000e+03</td>\n",
       "      <td>1.105000e+03</td>\n",
       "      <td>1.105000e+03</td>\n",
       "      <td>1.105000e+03</td>\n",
       "      <td>1.105000e+03</td>\n",
       "      <td>1.105000e+03</td>\n",
       "      <td>1.105000e+03</td>\n",
       "      <td>1.105000e+03</td>\n",
       "      <td>...</td>\n",
       "      <td>1.105000e+03</td>\n",
       "      <td>1.105000e+03</td>\n",
       "      <td>1.105000e+03</td>\n",
       "      <td>1.105000e+03</td>\n",
       "      <td>1.105000e+03</td>\n",
       "      <td>1.105000e+03</td>\n",
       "      <td>1.105000e+03</td>\n",
       "      <td>1.105000e+03</td>\n",
       "      <td>1.105000e+03</td>\n",
       "      <td>1.105000e+03</td>\n",
       "    </tr>\n",
       "    <tr>\n",
       "      <th>mean</th>\n",
       "      <td>1.434247e-16</td>\n",
       "      <td>-9.053592e-16</td>\n",
       "      <td>-1.615098e-16</td>\n",
       "      <td>-4.272600e-16</td>\n",
       "      <td>7.192186e-15</td>\n",
       "      <td>5.229603e-17</td>\n",
       "      <td>-3.269883e-16</td>\n",
       "      <td>-2.676592e-16</td>\n",
       "      <td>3.262348e-16</td>\n",
       "      <td>3.760692e-16</td>\n",
       "      <td>...</td>\n",
       "      <td>5.191423e-16</td>\n",
       "      <td>-9.203297e-17</td>\n",
       "      <td>2.257872e-16</td>\n",
       "      <td>-4.812704e-16</td>\n",
       "      <td>-4.124403e-17</td>\n",
       "      <td>-8.129244e-16</td>\n",
       "      <td>-7.421916e-16</td>\n",
       "      <td>-4.001324e-16</td>\n",
       "      <td>-1.838650e-17</td>\n",
       "      <td>2.538442e-16</td>\n",
       "    </tr>\n",
       "    <tr>\n",
       "      <th>std</th>\n",
       "      <td>1.000453e+00</td>\n",
       "      <td>1.000453e+00</td>\n",
       "      <td>1.000453e+00</td>\n",
       "      <td>1.000453e+00</td>\n",
       "      <td>1.000453e+00</td>\n",
       "      <td>1.000453e+00</td>\n",
       "      <td>1.000453e+00</td>\n",
       "      <td>1.000453e+00</td>\n",
       "      <td>1.000453e+00</td>\n",
       "      <td>1.000453e+00</td>\n",
       "      <td>...</td>\n",
       "      <td>1.000453e+00</td>\n",
       "      <td>1.000453e+00</td>\n",
       "      <td>1.000453e+00</td>\n",
       "      <td>1.000453e+00</td>\n",
       "      <td>1.000453e+00</td>\n",
       "      <td>1.000453e+00</td>\n",
       "      <td>1.000453e+00</td>\n",
       "      <td>1.000453e+00</td>\n",
       "      <td>1.000453e+00</td>\n",
       "      <td>1.000453e+00</td>\n",
       "    </tr>\n",
       "    <tr>\n",
       "      <th>min</th>\n",
       "      <td>-7.053718e-01</td>\n",
       "      <td>-1.837649e+00</td>\n",
       "      <td>-3.226550e+00</td>\n",
       "      <td>-2.378447e+00</td>\n",
       "      <td>-3.158620e+00</td>\n",
       "      <td>-5.544192e-01</td>\n",
       "      <td>-1.948138e+00</td>\n",
       "      <td>-1.909228e+00</td>\n",
       "      <td>-1.570259e+00</td>\n",
       "      <td>-1.751417e+00</td>\n",
       "      <td>...</td>\n",
       "      <td>-4.435228e+00</td>\n",
       "      <td>-2.918446e+00</td>\n",
       "      <td>-4.848142e+00</td>\n",
       "      <td>-5.770166e+00</td>\n",
       "      <td>-7.356416e+00</td>\n",
       "      <td>-6.464318e+00</td>\n",
       "      <td>-5.337989e+00</td>\n",
       "      <td>-4.505849e+00</td>\n",
       "      <td>-3.971525e+00</td>\n",
       "      <td>-3.410555e+00</td>\n",
       "    </tr>\n",
       "    <tr>\n",
       "      <th>25%</th>\n",
       "      <td>-3.578951e-01</td>\n",
       "      <td>-7.012435e-01</td>\n",
       "      <td>-7.265741e-01</td>\n",
       "      <td>-7.475250e-01</td>\n",
       "      <td>-5.990244e-01</td>\n",
       "      <td>-2.979976e-01</td>\n",
       "      <td>-4.970281e-01</td>\n",
       "      <td>-7.061821e-01</td>\n",
       "      <td>-7.198065e-01</td>\n",
       "      <td>-7.223001e-01</td>\n",
       "      <td>...</td>\n",
       "      <td>-5.623194e-01</td>\n",
       "      <td>-3.773092e-01</td>\n",
       "      <td>-5.197094e-01</td>\n",
       "      <td>-4.874340e-01</td>\n",
       "      <td>-4.880606e-01</td>\n",
       "      <td>-4.457424e-01</td>\n",
       "      <td>-4.548227e-01</td>\n",
       "      <td>-4.314880e-01</td>\n",
       "      <td>-4.491226e-01</td>\n",
       "      <td>-4.114749e-01</td>\n",
       "    </tr>\n",
       "    <tr>\n",
       "      <th>50%</th>\n",
       "      <td>-1.904229e-01</td>\n",
       "      <td>-1.886059e-01</td>\n",
       "      <td>-2.454100e-02</td>\n",
       "      <td>-1.386394e-01</td>\n",
       "      <td>-1.007275e-01</td>\n",
       "      <td>-1.715992e-01</td>\n",
       "      <td>-1.819737e-01</td>\n",
       "      <td>-1.826980e-01</td>\n",
       "      <td>-2.213800e-01</td>\n",
       "      <td>-1.924221e-01</td>\n",
       "      <td>...</td>\n",
       "      <td>5.117395e-02</td>\n",
       "      <td>2.037167e-01</td>\n",
       "      <td>6.799576e-02</td>\n",
       "      <td>1.233569e-01</td>\n",
       "      <td>1.535134e-01</td>\n",
       "      <td>1.609785e-01</td>\n",
       "      <td>1.643235e-01</td>\n",
       "      <td>1.825452e-01</td>\n",
       "      <td>1.543961e-01</td>\n",
       "      <td>1.826317e-01</td>\n",
       "    </tr>\n",
       "    <tr>\n",
       "      <th>75%</th>\n",
       "      <td>6.162547e-02</td>\n",
       "      <td>5.798737e-01</td>\n",
       "      <td>7.457282e-01</td>\n",
       "      <td>5.972684e-01</td>\n",
       "      <td>4.515874e-01</td>\n",
       "      <td>1.674121e-02</td>\n",
       "      <td>3.008929e-01</td>\n",
       "      <td>5.777789e-01</td>\n",
       "      <td>4.986620e-01</td>\n",
       "      <td>5.497978e-01</td>\n",
       "      <td>...</td>\n",
       "      <td>6.333252e-01</td>\n",
       "      <td>6.669497e-01</td>\n",
       "      <td>6.324632e-01</td>\n",
       "      <td>6.449090e-01</td>\n",
       "      <td>6.072456e-01</td>\n",
       "      <td>5.952042e-01</td>\n",
       "      <td>6.136688e-01</td>\n",
       "      <td>6.290139e-01</td>\n",
       "      <td>6.605855e-01</td>\n",
       "      <td>6.561198e-01</td>\n",
       "    </tr>\n",
       "    <tr>\n",
       "      <th>max</th>\n",
       "      <td>1.471719e+01</td>\n",
       "      <td>6.184554e+00</td>\n",
       "      <td>3.944963e+00</td>\n",
       "      <td>5.712028e+00</td>\n",
       "      <td>4.780912e+00</td>\n",
       "      <td>1.529942e+01</td>\n",
       "      <td>1.154528e+01</td>\n",
       "      <td>5.872578e+00</td>\n",
       "      <td>6.058919e+00</td>\n",
       "      <td>6.279296e+00</td>\n",
       "      <td>...</td>\n",
       "      <td>2.564417e+00</td>\n",
       "      <td>2.681901e+00</td>\n",
       "      <td>2.640261e+00</td>\n",
       "      <td>2.658611e+00</td>\n",
       "      <td>2.776772e+00</td>\n",
       "      <td>2.811386e+00</td>\n",
       "      <td>2.881865e+00</td>\n",
       "      <td>2.803789e+00</td>\n",
       "      <td>2.813856e+00</td>\n",
       "      <td>2.767153e+00</td>\n",
       "    </tr>\n",
       "  </tbody>\n",
       "</table>\n",
       "<p>8 rows × 1524 columns</p>\n",
       "</div>"
      ],
      "text/plain": [
       "          feature-0     feature-1     feature-2     feature-3     feature-4  \\\n",
       "count  1.105000e+03  1.105000e+03  1.105000e+03  1.105000e+03  1.105000e+03   \n",
       "mean   1.434247e-16 -9.053592e-16 -1.615098e-16 -4.272600e-16  7.192186e-15   \n",
       "std    1.000453e+00  1.000453e+00  1.000453e+00  1.000453e+00  1.000453e+00   \n",
       "min   -7.053718e-01 -1.837649e+00 -3.226550e+00 -2.378447e+00 -3.158620e+00   \n",
       "25%   -3.578951e-01 -7.012435e-01 -7.265741e-01 -7.475250e-01 -5.990244e-01   \n",
       "50%   -1.904229e-01 -1.886059e-01 -2.454100e-02 -1.386394e-01 -1.007275e-01   \n",
       "75%    6.162547e-02  5.798737e-01  7.457282e-01  5.972684e-01  4.515874e-01   \n",
       "max    1.471719e+01  6.184554e+00  3.944963e+00  5.712028e+00  4.780912e+00   \n",
       "\n",
       "          feature-5     feature-6     feature-7     feature-8     feature-9  \\\n",
       "count  1.105000e+03  1.105000e+03  1.105000e+03  1.105000e+03  1.105000e+03   \n",
       "mean   5.229603e-17 -3.269883e-16 -2.676592e-16  3.262348e-16  3.760692e-16   \n",
       "std    1.000453e+00  1.000453e+00  1.000453e+00  1.000453e+00  1.000453e+00   \n",
       "min   -5.544192e-01 -1.948138e+00 -1.909228e+00 -1.570259e+00 -1.751417e+00   \n",
       "25%   -2.979976e-01 -4.970281e-01 -7.061821e-01 -7.198065e-01 -7.223001e-01   \n",
       "50%   -1.715992e-01 -1.819737e-01 -1.826980e-01 -2.213800e-01 -1.924221e-01   \n",
       "75%    1.674121e-02  3.008929e-01  5.777789e-01  4.986620e-01  5.497978e-01   \n",
       "max    1.529942e+01  1.154528e+01  5.872578e+00  6.058919e+00  6.279296e+00   \n",
       "\n",
       "           ...       feature-1514  feature-1515  feature-1516  feature-1517  \\\n",
       "count      ...       1.105000e+03  1.105000e+03  1.105000e+03  1.105000e+03   \n",
       "mean       ...       5.191423e-16 -9.203297e-17  2.257872e-16 -4.812704e-16   \n",
       "std        ...       1.000453e+00  1.000453e+00  1.000453e+00  1.000453e+00   \n",
       "min        ...      -4.435228e+00 -2.918446e+00 -4.848142e+00 -5.770166e+00   \n",
       "25%        ...      -5.623194e-01 -3.773092e-01 -5.197094e-01 -4.874340e-01   \n",
       "50%        ...       5.117395e-02  2.037167e-01  6.799576e-02  1.233569e-01   \n",
       "75%        ...       6.333252e-01  6.669497e-01  6.324632e-01  6.449090e-01   \n",
       "max        ...       2.564417e+00  2.681901e+00  2.640261e+00  2.658611e+00   \n",
       "\n",
       "       feature-1518  feature-1519  feature-1520  feature-1521  feature-1522  \\\n",
       "count  1.105000e+03  1.105000e+03  1.105000e+03  1.105000e+03  1.105000e+03   \n",
       "mean  -4.124403e-17 -8.129244e-16 -7.421916e-16 -4.001324e-16 -1.838650e-17   \n",
       "std    1.000453e+00  1.000453e+00  1.000453e+00  1.000453e+00  1.000453e+00   \n",
       "min   -7.356416e+00 -6.464318e+00 -5.337989e+00 -4.505849e+00 -3.971525e+00   \n",
       "25%   -4.880606e-01 -4.457424e-01 -4.548227e-01 -4.314880e-01 -4.491226e-01   \n",
       "50%    1.535134e-01  1.609785e-01  1.643235e-01  1.825452e-01  1.543961e-01   \n",
       "75%    6.072456e-01  5.952042e-01  6.136688e-01  6.290139e-01  6.605855e-01   \n",
       "max    2.776772e+00  2.811386e+00  2.881865e+00  2.803789e+00  2.813856e+00   \n",
       "\n",
       "       feature-1523  \n",
       "count  1.105000e+03  \n",
       "mean   2.538442e-16  \n",
       "std    1.000453e+00  \n",
       "min   -3.410555e+00  \n",
       "25%   -4.114749e-01  \n",
       "50%    1.826317e-01  \n",
       "75%    6.561198e-01  \n",
       "max    2.767153e+00  \n",
       "\n",
       "[8 rows x 1524 columns]"
      ]
     },
     "execution_count": 7,
     "metadata": {},
     "output_type": "execute_result"
    }
   ],
   "source": [
    "df2.describe()"
   ]
  },
  {
   "cell_type": "markdown",
   "metadata": {},
   "source": [
    "# ANN"
   ]
  },
  {
   "cell_type": "code",
   "execution_count": 8,
   "metadata": {},
   "outputs": [
    {
     "name": "stderr",
     "output_type": "stream",
     "text": [
      "/home/krikunovalexey/anaconda3/lib/python3.6/site-packages/h5py/__init__.py:36: FutureWarning: Conversion of the second argument of issubdtype from `float` to `np.floating` is deprecated. In future, it will be treated as `np.float64 == np.dtype(float).type`.\n",
      "  from ._conv import register_converters as _register_converters\n"
     ]
    }
   ],
   "source": [
    "from sklearn.metrics import roc_auc_score\n",
    "\n",
    "import tensorflow as tf\n",
    "import numpy as np\n",
    "\n",
    "import matplotlib.pyplot as plt"
   ]
  },
  {
   "cell_type": "markdown",
   "metadata": {},
   "source": [
    "## Helper functions and classes"
   ]
  },
  {
   "cell_type": "code",
   "execution_count": 9,
   "metadata": {},
   "outputs": [],
   "source": [
    "def linear_activation(vector, weights, bias):\n",
    "    return tf.matmul(vector, weights) + bias"
   ]
  },
  {
   "cell_type": "code",
   "execution_count": 10,
   "metadata": {},
   "outputs": [],
   "source": [
    "class BatchGenerator():\n",
    "    def __init__(self, X, y, batch_size):\n",
    "        self.X = X\n",
    "        self.Y = y\n",
    "        self.batch_size = batch_size\n",
    "        self.n_batch = (len(X) // batch_size)\n",
    "        self.index = 0\n",
    "\n",
    "    def get_batch(self):\n",
    "        batch_range = range(self.index, (self.index+1)*self.batch_size)\n",
    "        if self.index == self.n_batch:\n",
    "            batch_range = range(self.index, len(self.X))\n",
    "        self.index += 1\n",
    "\n",
    "        return self.X[batch_range], self.Y[batch_range]\n",
    "\n",
    "    def resetIndex(self):\n",
    "        self.index = 0"
   ]
  },
  {
   "cell_type": "markdown",
   "metadata": {},
   "source": [
    "### NN layers\n",
    "As far this is ad-hoc solution for test task layer composing fuctions includes code for regularization"
   ]
  },
  {
   "cell_type": "code",
   "execution_count": 11,
   "metadata": {},
   "outputs": [],
   "source": [
    "class One2OneLayer(object):\n",
    "    def __init__(self, input_layer, weight_init=None):\n",
    "        input_size = input_layer.get_shape()[1].value\n",
    "\n",
    "        o2o_weights = tf.Variable(tf.random_normal([input_size]))\n",
    "        o2o_output = input_layer * o2o_weights\n",
    "\n",
    "        self.output = o2o_output\n",
    "        self.input = input_layer\n",
    "        self.output = o2o_output\n",
    "        self.weights = o2o_weights\n",
    "    \n",
    "class DenseLayer():\n",
    "    def __init__(self, input_layer, layer_size, activation):\n",
    "        input_size = input_layer.get_shape()[1].value\n",
    "        \n",
    "        low=-np.sqrt(6. / (input_size + layer_size))\n",
    "        high=np.sqrt(6. / (input_size + layer_size))\n",
    "        \n",
    "        weights = tf.Variable(tf.random_uniform([input_size, layer_size], \n",
    "                                               minval=low, maxval=high))\n",
    "        bias = tf.Variable(tf.random_uniform([layer_size], \n",
    "                                             minval=low, maxval=high))\n",
    "\n",
    "        z = linear_activation(input_layer, weights, bias)\n",
    "        output = activation(z)\n",
    "        \n",
    "        self.input = input_layer\n",
    "        self.bias = bias\n",
    "        self.output = output\n",
    "        self.weights = weights\n",
    "        \n",
    "class SoftmaxLayer():\n",
    "    \"\"\"\n",
    "        This class describes the output layer of NN\n",
    "        with softmax loss function\n",
    "    \"\"\"\n",
    "    def __init__(self, input_layer, layer_size, y):\n",
    "        input_size = input_layer.get_shape()[1].value\n",
    "\n",
    "        low=-np.sqrt(6. / (input_size + layer_size))\n",
    "        high=np.sqrt(6. / (input_size + layer_size))\n",
    "        \n",
    "        weights = tf.Variable(tf.random_uniform([input_size, layer_size], \n",
    "                                               minval=low, maxval=high))\n",
    "        bias = tf.Variable(tf.random_uniform([layer_size], \n",
    "                                             minval=low, maxval=high))\n",
    "\n",
    "        z = linear_activation(input_layer, weights, bias)\n",
    "        cost = tf.reduce_mean(tf.nn.softmax_cross_entropy_with_logits_v2(labels=y, logits=z))\n",
    "\n",
    "        # Evaluate model\n",
    "        correct_predictions = tf.equal(tf.argmax(z, 1), tf.argmax(y, 1))\n",
    "        self.accuracy = tf.reduce_mean(tf.cast(correct_predictions, tf.float32))\n",
    "        \n",
    "        self.input = input_layer\n",
    "        self.bias = bias\n",
    "        self.output = z\n",
    "        self.weights = weights\n",
    "        \n",
    "        self.cost = cost\n",
    "        self.y = y\n"
   ]
  },
  {
   "cell_type": "code",
   "execution_count": 12,
   "metadata": {},
   "outputs": [],
   "source": [
    "class DeepFeatureSelectionNN():\n",
    "    def __init__(self, X, Y, layers_dimentions=100, n_layers=5, activation=tf.nn.sigmoid,\n",
    "                 lambda1=0.01, lambda2=1.0, alpha1=0.001, alpha2=1.0):\n",
    "        self.X = X\n",
    "        self.Y = Y\n",
    "    \n",
    "        #Calculate shapes\n",
    "        n_sample, n_feat = X.shape\n",
    "        n_classes =  Y.shape[1]\n",
    "        if n_classes == 1:\n",
    "            enc = OneHotEncoder()\n",
    "            self.Y = enc.fit_transform(Y).todense()\n",
    "            n_classes = self.Y.shape[1]\n",
    "    \n",
    "        #Init input layers\n",
    "        self.input_X = tf.placeholder(\"float32\", shape=(None, n_feat), name=\"input_X\")\n",
    "        self.input_y = tf.placeholder(\"float32\", shape=(None, n_classes), name=\"input_Y\")\n",
    "        \n",
    "        #Add one2one, dense and softmax layers\n",
    "        self.hidden_layers = []\n",
    "        self.hidden_layers.append(One2OneLayer(self.input_X))\n",
    "        \n",
    "        dims = []\n",
    "        if type(layers_dimentions) != list:\n",
    "            dims = [layers_dimentions for k in range(n_layers)]\n",
    "        else:\n",
    "            dims = layers_dimentions\n",
    "        \n",
    "        for layer_size in dims:\n",
    "            input_hidden = self.hidden_layers[-1].output if self.hidden_layers else self.input_X\n",
    "            self.hidden_layers.append(DenseLayer(input_hidden, layer_size, activation=activation))\n",
    "            \n",
    "        self.output_layer = SoftmaxLayer(self.hidden_layers[-1].output, n_classes, self.input_y)\n",
    "        self.hidden_layers.append(self.output_layer)\n",
    "        \n",
    "        #Collect weights from layers\n",
    "        w = self.hidden_layers[0].weights\n",
    "        sqr_frob_norm = [tf.norm(l.weights, 'euclidean') ** 2 for l in self.hidden_layers[1:]]\n",
    "        l1_norm = [tf.norm(l.weights, 1) for l in self.hidden_layers[1:]]\n",
    "        \n",
    "        #Precalculate regularization terms\n",
    "        regularization1 = lambda1*((1.0-lambda2) * 0.5 * tf.norm(w) ** 2 + lambda2 * tf.norm(w, 1))\n",
    "        regularization2 = alpha1*((1.0-alpha2) * 0.5 * tf.add_n(sqr_frob_norm) +  lambda1 * tf.add_n(l1_norm))\n",
    "        \n",
    "        #Calculate cost function\n",
    "        self.cost = self.output_layer.cost + regularization1 + regularization2\n",
    "    \n",
    "    \n",
    "    def train(self,lerning_rate=0.01, epochs=1000, batch_size=100, \n",
    "              verbose=True, print_step=100, random_state=441, fit_mode=False):\n",
    "        \n",
    "        if not fit_mode:\n",
    "            X_train, X_test, Y_train, Y_test = CV.train_test_split(self.X, \n",
    "                                                                   self.Y, \n",
    "                                                                   random_state=random_state)\n",
    "        else:\n",
    "            X_train, X_test, Y_train, Y_test = self.X, self.X, self.Y, self.Y\n",
    "        \n",
    "        GDoptimizer = tf.train.AdamOptimizer(lerning_rate)\\\n",
    "                              .minimize(self.cost)\n",
    "        \n",
    "        self.accuracy = self.output_layer.accuracy\n",
    "        \n",
    "        s = tf.Session()\n",
    "        self.s = s\n",
    "        s.run(tf.global_variables_initializer())\n",
    "        \n",
    "        batch_generator = BatchGenerator(X_train, Y_train, batch_size)\n",
    "        n_batch = batch_generator.n_batch\n",
    "        \n",
    "        self.losses, self.losses_test, self.train_accs, self.test_accs = [], [], [], []\n",
    "        \n",
    "        for i in range(epochs):\n",
    "            batch_generator.resetIndex()\n",
    "            for j in range(n_batch + 1):\n",
    "                x_batch, y_batch = batch_generator.get_batch()\n",
    "                s.run(GDoptimizer, feed_dict={self.input_X : x_batch, self.input_y: y_batch})\n",
    "\n",
    "                \n",
    "                \n",
    "            self.train_accs.append(s.run(self.output_layer.accuracy,\n",
    "                                         feed_dict={self.input_X: X_train, self.input_y: Y_train}))\n",
    "            self.losses.append(s.run(self.cost,\n",
    "                                        feed_dict={self.input_X: X_train, self.input_y: Y_train}))\n",
    "            \n",
    "            if not fit_mode:\n",
    "                self.losses_test.append(s.run(self.cost,\n",
    "                                               feed_dict={self.input_X: X_test, self.input_y: Y_test}))\n",
    "                self.test_accs.append(s.run(self.output_layer.accuracy,\n",
    "                                               feed_dict={self.input_X: X_test, self.input_y: Y_test}))\n",
    "\n",
    "            if verbose and i % print_step == 0:\n",
    "                print('epoch {}: loss = {}'.format(i, self.losses[-1]))\n",
    "                print(\"Train accuracy:\", self.train_accs[-1])\n",
    "                print(\"train auc:\", roc_auc_score(Y_train, s.run(self.output_layer.output, \n",
    "                                                                 {self.input_X: X_train})))\n",
    "                if not fit_mode:\n",
    "                    print('loss_test = {}'.format(self.losses_test[-1]))\n",
    "                    print(\"Test accuracy:\", self.test_accs[-1])\n",
    "                    print(\"test auc:\", roc_auc_score(Y_test, s.run(self.output_layer.output, \n",
    "                                                                   {self.input_X: X_test})))\n",
    "        \n",
    "        self.selected_ws = s.run(self.hidden_layers[0].weights)\n",
    "        if verbose:\n",
    "            print(\"Final train accuracy:\", self.train_accs[-1])\n",
    "            if not fit_mode:\n",
    "                print(\"Final test accuracy:\", self.test_accs[-1])"
   ]
  },
  {
   "cell_type": "code",
   "execution_count": 14,
   "metadata": {},
   "outputs": [],
   "source": [
    "dfs_nn = DeepFeatureSelectionNN(X_, y_, [1024, 512, 256, 128], activation=tf.nn.tanh)"
   ]
  },
  {
   "cell_type": "code",
   "execution_count": 19,
   "metadata": {
    "scrolled": true
   },
   "outputs": [
    {
     "name": "stdout",
     "output_type": "stream",
     "text": [
      "epoch 0: loss = 12.335762977600098\n",
      "Train accuracy: 0.42270532\n",
      "train auc: 0.5570016000449136\n",
      "loss_test = 12.29890251159668\n",
      "Test accuracy: 0.46931407\n",
      "test auc: 0.5552440858744702\n",
      "epoch 20: loss = 1.186618685722351\n",
      "Train accuracy: 0.91183573\n",
      "train auc: 0.9564338648102402\n",
      "loss_test = 1.624991536140442\n",
      "Test accuracy: 0.7978339\n",
      "test auc: 0.838951182825106\n",
      "epoch 40: loss = 0.42534834146499634\n",
      "Train accuracy: 0.97343\n",
      "train auc: 0.9826065293060857\n",
      "loss_test = 1.0182617902755737\n",
      "Test accuracy: 0.8267148\n",
      "test auc: 0.8571721591686039\n",
      "epoch 60: loss = 0.2551431655883789\n",
      "Train accuracy: 0.98671496\n",
      "train auc: 0.9981367898046261\n",
      "loss_test = 0.8462868928909302\n",
      "Test accuracy: 0.84476537\n",
      "test auc: 0.8937508546424175\n",
      "epoch 80: loss = 0.3640727996826172\n",
      "Train accuracy: 0.9710145\n",
      "train auc: 0.98845932517404\n",
      "loss_test = 0.9523890614509583\n",
      "Test accuracy: 0.833935\n",
      "test auc: 0.8069875564063995\n",
      "epoch 100: loss = 0.19317230582237244\n",
      "Train accuracy: 0.9963768\n",
      "train auc: 0.9990315517628565\n",
      "loss_test = 1.0093270540237427\n",
      "Test accuracy: 0.84476537\n",
      "test auc: 0.8578558731026938\n",
      "epoch 120: loss = 0.11569004505872726\n",
      "Train accuracy: 0.9975845\n",
      "train auc: 0.9998806984055693\n",
      "loss_test = 1.0218878984451294\n",
      "Test accuracy: 0.8592058\n",
      "test auc: 0.8727608368658553\n",
      "epoch 140: loss = 0.2169957458972931\n",
      "Train accuracy: 0.99033815\n",
      "train auc: 0.997933275320009\n",
      "loss_test = 1.0319669246673584\n",
      "Test accuracy: 0.85559565\n",
      "test auc: 0.8536510324080405\n",
      "epoch 160: loss = 0.10589209198951721\n",
      "Train accuracy: 0.9987923\n",
      "train auc: 0.9999649112957558\n",
      "loss_test = 1.101752519607544\n",
      "Test accuracy: 0.85559565\n",
      "test auc: 0.864248598386435\n",
      "epoch 180: loss = 0.08888494968414307\n",
      "Train accuracy: 0.9987923\n",
      "train auc: 0.9999929822591511\n",
      "loss_test = 1.065179705619812\n",
      "Test accuracy: 0.85559565\n",
      "test auc: 0.868487624777793\n",
      "Final train accuracy: 0.9987923\n",
      "Final test accuracy: 0.8592058\n",
      "CPU times: user 17min 43s, sys: 1min 22s, total: 19min 6s\n",
      "Wall time: 2min 49s\n"
     ]
    }
   ],
   "source": [
    "%%time\n",
    "dfs_nn.train(0.01, 200, 100, print_step=20, random_state=RANDOM_STATE, fit_mode=False)"
   ]
  },
  {
   "cell_type": "code",
   "execution_count": 21,
   "metadata": {},
   "outputs": [
    {
     "data": {
      "text/plain": [
       "Text(0,0.5,'LOSS')"
      ]
     },
     "execution_count": 21,
     "metadata": {},
     "output_type": "execute_result"
    },
    {
     "data": {
      "image/png": "[encoded data removed]",
      "text/plain": [
       "<matplotlib.figure.Figure at 0x7f6ea4809e10>"
      ]
     },
     "metadata": {},
     "output_type": "display_data"
    }
   ],
   "source": [
    "h1, = plt.plot(dfs_nn.losses, label=\"Loss on train\")\n",
    "h2, = plt.plot(dfs_nn.losses_test, label=\"Loss on test\")\n",
    "\n",
    "plt.legend(handles=[h1, h2])\n",
    "\n",
    "plt.xlabel(\"epoch\")\n",
    "plt.ylabel(\"LOSS\")"
   ]
  },
  {
   "cell_type": "markdown",
   "metadata": {},
   "source": [
    "Из графика выше видно, что довольно быстро начинается переобучения модели, поэтому лучше остановиться заранее или добавить регуляризацию. Разумеется, выбор количества эпох и борьба с оверфитингом должно вестись не просто выборомточки визуально на граффике, но в данном случае у меня уже не хватило времени провести полноценный анализ."
   ]
  },
  {
   "cell_type": "markdown",
   "metadata": {},
   "source": [
    "Далее запускаем обучение модели с параметром fit_mode=True, что говорит алгортму использовать всю выборку, не разбивая её на тренировочную и валидирующую."
   ]
  },
  {
   "cell_type": "code",
   "execution_count": 30,
   "metadata": {
    "scrolled": true
   },
   "outputs": [
    {
     "name": "stdout",
     "output_type": "stream",
     "text": [
      "epoch 0: loss = 11.857841491699219\n",
      "Train accuracy: 0.67873305\n",
      "train auc: 0.7844595137633112\n",
      "epoch 20: loss = 0.9123934507369995\n",
      "Train accuracy: 0.9122172\n",
      "train auc: 0.9286407474382158\n",
      "epoch 40: loss = 0.46091023087501526\n",
      "Train accuracy: 0.94660634\n",
      "train auc: 0.9757725537472373\n",
      "epoch 60: loss = 0.33467352390289307\n",
      "Train accuracy: 0.98190045\n",
      "train auc: 0.9680610809724735\n",
      "epoch 80: loss = 0.3283129036426544\n",
      "Train accuracy: 0.9909502\n",
      "train auc: 0.9934699618243922\n",
      "Final train accuracy: 0.999095\n",
      "CPU times: user 13min 51s, sys: 1min, total: 14min 51s\n",
      "Wall time: 2min 19s\n"
     ]
    }
   ],
   "source": [
    "%%time\n",
    "dfs_nn.train(0.01, 100, 100, print_step=20, random_state=RANDOM_STATE, fit_mode=True)"
   ]
  },
  {
   "cell_type": "markdown",
   "metadata": {},
   "source": [
    "# Evaluation"
   ]
  },
  {
   "cell_type": "markdown",
   "metadata": {},
   "source": [
    "### Find feature importaince using different methods"
   ]
  },
  {
   "cell_type": "code",
   "execution_count": 31,
   "metadata": {},
   "outputs": [],
   "source": [
    "y = y_.ravel()"
   ]
  },
  {
   "cell_type": "code",
   "execution_count": 32,
   "metadata": {},
   "outputs": [],
   "source": [
    "rf_clf = RandomForestClassifier(n_jobs=2, random_state=RANDOM_STATE)\n",
    "lgbm_clf = LGBMClassifier(random_state=RANDOM_STATE)\n",
    "\n",
    "rf_clf.fit(X_, y);\n",
    "lgbm_clf.fit(X_, y);"
   ]
  },
  {
   "cell_type": "code",
   "execution_count": 33,
   "metadata": {},
   "outputs": [],
   "source": [
    "rf_feature_importances = list(zip(df2.columns[:-1], rf_clf.feature_importances_))\n",
    "lgbm_feature_importances = list(zip(df2.columns[:-1],lgbm_clf.feature_importances_))\n",
    "dfs_feature_importances = list(zip(df2.columns[:-1], dfs_nn.selected_ws))\n",
    "\n",
    "rf_feature_importances.sort(key=lambda x: x[1], reverse=True)\n",
    "lgbm_feature_importances.sort(key=lambda x: x[1], reverse=True)\n",
    "dfs_feature_importances.sort(key=lambda x: x[1], reverse=True)"
   ]
  },
  {
   "cell_type": "markdown",
   "metadata": {},
   "source": [
    "### Evaluation models"
   ]
  },
  {
   "cell_type": "code",
   "execution_count": 34,
   "metadata": {},
   "outputs": [
    {
     "data": {
      "text/plain": [
       "-0.2982190484129969"
      ]
     },
     "execution_count": 34,
     "metadata": {},
     "output_type": "execute_result"
    }
   ],
   "source": [
    "svc_clf = SVC(probability=True)\n",
    "CV.cross_val_score(svc_clf, X_, y, cv=5, scoring='neg_log_loss').mean()"
   ]
  },
  {
   "cell_type": "markdown",
   "metadata": {},
   "source": [
    "В следующем коде для каждого набора признаков, для модели дожен был осуществляться подбор гиперпараметров (закоменнтированный код), и вариант набора гиперпараметров должен был сохраняться вместе со значением целевой метрики. Но из-за того, что подобный подбор признаков занимал время, несовместимое с выполнением задания в срок, пришлось решить задачу частично и ограничиться кросс-валидацией.\n",
    "\n",
    "Более того, в данном случае необходимо провести анализ результатов кросс-валидации, как минимум учитывать не только среднее, но и дисперсию результатов валидации на фолдах.\n",
    "\n",
    "Так же, в общем случае, перебор нужно делать по числу признаков от 1 до максимального, чтобы убедиться, что выбор признаков не приводит к значительному ухудшению качества модели."
   ]
  },
  {
   "cell_type": "code",
   "execution_count": 41,
   "metadata": {},
   "outputs": [
    {
     "name": "stdout",
     "output_type": "stream",
     "text": [
      "CPU times: user 24min 8s, sys: 0 ns, total: 24min 8s\n",
      "Wall time: 24min 8s\n"
     ]
    }
   ],
   "source": [
    "%%time\n",
    "\n",
    "metrics = ['neg_log_loss', 'roc_auc']\n",
    "mn, mx = 10, 150\n",
    "feature_importances = [rf_feature_importances,\n",
    "                      lgbm_feature_importances,\n",
    "                      dfs_feature_importances]\n",
    "\n",
    "#param_grid = [\n",
    "#  {'C': [1, 10], 'kernel': ['linear']},\n",
    "#  {'C': [1, 10], 'gamma': [0.001, 0.0001], 'kernel': ['rbf']},\n",
    "# ]\n",
    "\n",
    "score_by_metric = {}\n",
    "for metric in metrics:\n",
    "    scores = []\n",
    "    for fv in feature_importances:\n",
    "        score = []\n",
    "        for i in range(mn, mx):\n",
    "            top = fv[:i]\n",
    "            top_columns = [f[0] for f in top]\n",
    "            X_top = df2[top_columns]\n",
    "            \n",
    "            m = CV.cross_val_score(svc_clf, X_top, y, cv=5, scoring=metric).mean()\n",
    "            \n",
    "            #grid_search = GridSearchCV(svc_clf, param_grid, scoring=metric, n_jobs=8, cv=4)\n",
    "            #grid_search.fit(X_top, y_)\n",
    "            #m = grid_search.best_score_ \n",
    "            \n",
    "            score.append(m)\n",
    "        scores.append(score)\n",
    "    score_by_metric[metric] = scores"
   ]
  },
  {
   "cell_type": "code",
   "execution_count": 40,
   "metadata": {},
   "outputs": [
    {
     "data": {
      "image/png": "[encoded data removed]",
      "text/plain": [
       "<matplotlib.figure.Figure at 0x7f046471a588>"
      ]
     },
     "metadata": {},
     "output_type": "display_data"
    },
    {
     "data": {
      "image/png": "[encoded data removed]",
      "text/plain": [
       "<matplotlib.figure.Figure at 0x7f0464746860>"
      ]
     },
     "metadata": {},
     "output_type": "display_data"
    }
   ],
   "source": [
    "for metric in metrics:\n",
    "    scores = score_by_metric[metric]\n",
    "    labels = []\n",
    "    for selection_method, score in zip([\"random forest\", \"gboost\", \"dfs\"], scores):\n",
    "        label, = plt.plot(range(mn, mx), score, label = selection_method)\n",
    "        labels.append(label)\n",
    "\n",
    "    plt.title(\"Different feature selection methods comparison\")\n",
    "    plt.legend(handles=labels)\n",
    "    plt.xlabel(\"Features count\")\n",
    "    plt.ylabel(metric)\n",
    "    plt.show()"
   ]
  },
  {
   "cell_type": "markdown",
   "metadata": {},
   "source": [
    "Правильно было бы так же и признаки ранжировать с использованием перебора гиперпараметров моделей отбора (Random Forest, GBoost, DFS). Но это очень затратная  по производительно операция заняла бы слишком много времени на выполнение."
   ]
  },
  {
   "cell_type": "code",
   "execution_count": 49,
   "metadata": {},
   "outputs": [
    {
     "name": "stdout",
     "output_type": "stream",
     "text": [
      "Maximum ROC AUC for random forest feature selection is 0.928 obtained on 146 features\n",
      "Maximum ROC AUC for gboost feature selection is 0.932 obtained on 116 features\n",
      "Maximum ROC AUC for dfs feature selection is 0.928 obtained on 142 features\n"
     ]
    }
   ],
   "source": [
    "roc_aucs = score_by_metric['roc_auc']\n",
    "\n",
    "#Здесь происходит дублирование перебора осуществленного выше для построения граффиков, но так нагляднее\n",
    "for selection_method, score in zip([\"random forest\", \"gboost\", \"dfs\"], roc_aucs):\n",
    "    max_score = max(score)\n",
    "    print(\"Maximum ROC AUC for {} feature selection is {:.3f} obtained on {} features\".format(selection_method, \n",
    "                                                                                          max_score,\n",
    "                                                                                          score.index(max_score) + mn))"
   ]
  },
  {
   "cell_type": "code",
   "execution_count": 52,
   "metadata": {},
   "outputs": [],
   "source": [
    "best_features_set = [f[0] for f in lgbm_feature_importances[:117]]"
   ]
  },
  {
   "cell_type": "code",
   "execution_count": 53,
   "metadata": {
    "scrolled": false
   },
   "outputs": [
    {
     "data": {
      "text/plain": [
       "['feature-1460',\n",
       " 'feature-1183',\n",
       " 'feature-351',\n",
       " 'feature-545',\n",
       " 'feature-63',\n",
       " 'feature-1025',\n",
       " 'feature-602',\n",
       " 'feature-973',\n",
       " 'feature-214',\n",
       " 'feature-358',\n",
       " 'feature-889',\n",
       " 'feature-226',\n",
       " 'feature-382',\n",
       " 'feature-369',\n",
       " 'feature-584',\n",
       " 'feature-687',\n",
       " 'feature-868',\n",
       " 'feature-101',\n",
       " 'feature-460',\n",
       " 'feature-881',\n",
       " 'feature-1286',\n",
       " 'feature-822',\n",
       " 'feature-916',\n",
       " 'feature-1013',\n",
       " 'feature-62',\n",
       " 'feature-464',\n",
       " 'feature-588',\n",
       " 'feature-596',\n",
       " 'feature-660',\n",
       " 'feature-1011',\n",
       " 'feature-30',\n",
       " 'feature-80',\n",
       " 'feature-96',\n",
       " 'feature-98',\n",
       " 'feature-130',\n",
       " 'feature-350',\n",
       " 'feature-476',\n",
       " 'feature-530',\n",
       " 'feature-569',\n",
       " 'feature-593',\n",
       " 'feature-600',\n",
       " 'feature-1001',\n",
       " 'feature-1520',\n",
       " 'feature-81',\n",
       " 'feature-120',\n",
       " 'feature-212',\n",
       " 'feature-381',\n",
       " 'feature-422',\n",
       " 'feature-452',\n",
       " 'feature-473',\n",
       " 'feature-544',\n",
       " 'feature-548',\n",
       " 'feature-561',\n",
       " 'feature-607',\n",
       " 'feature-666',\n",
       " 'feature-685',\n",
       " 'feature-825',\n",
       " 'feature-852',\n",
       " 'feature-1339',\n",
       " 'feature-52',\n",
       " 'feature-104',\n",
       " 'feature-115',\n",
       " 'feature-205',\n",
       " 'feature-360',\n",
       " 'feature-415',\n",
       " 'feature-480',\n",
       " 'feature-557',\n",
       " 'feature-560',\n",
       " 'feature-700',\n",
       " 'feature-702',\n",
       " 'feature-749',\n",
       " 'feature-750',\n",
       " 'feature-779',\n",
       " 'feature-795',\n",
       " 'feature-1002',\n",
       " 'feature-1004',\n",
       " 'feature-0',\n",
       " 'feature-42',\n",
       " 'feature-60',\n",
       " 'feature-74',\n",
       " 'feature-90',\n",
       " 'feature-127',\n",
       " 'feature-171',\n",
       " 'feature-173',\n",
       " 'feature-185',\n",
       " 'feature-204',\n",
       " 'feature-224',\n",
       " 'feature-355',\n",
       " 'feature-362',\n",
       " 'feature-367',\n",
       " 'feature-380',\n",
       " 'feature-407',\n",
       " 'feature-458',\n",
       " 'feature-463',\n",
       " 'feature-472',\n",
       " 'feature-499',\n",
       " 'feature-542',\n",
       " 'feature-570',\n",
       " 'feature-572',\n",
       " 'feature-581',\n",
       " 'feature-591',\n",
       " 'feature-597',\n",
       " 'feature-618',\n",
       " 'feature-620',\n",
       " 'feature-663',\n",
       " 'feature-697',\n",
       " 'feature-698',\n",
       " 'feature-711',\n",
       " 'feature-764',\n",
       " 'feature-837',\n",
       " 'feature-839',\n",
       " 'feature-858',\n",
       " 'feature-872',\n",
       " 'feature-887',\n",
       " 'feature-918',\n",
       " 'feature-982',\n",
       " 'feature-1026']"
      ]
     },
     "execution_count": 53,
     "metadata": {},
     "output_type": "execute_result"
    }
   ],
   "source": [
    "best_features_set"
   ]
  },
  {
   "cell_type": "code",
   "execution_count": null,
   "metadata": {},
   "outputs": [],
   "source": []
  }
 ],
 "metadata": {
  "kernelspec": {
   "display_name": "Python 3",
   "language": "python",
   "name": "python3"
  },
  "language_info": {
   "codemirror_mode": {
    "name": "ipython",
    "version": 3
   },
   "file_extension": ".py",
   "mimetype": "text/x-python",
   "name": "python",
   "nbconvert_exporter": "python",
   "pygments_lexer": "ipython3",
   "version": "3.6.4"
  }
 },
 "nbformat": 4,
 "nbformat_minor": 2
}
